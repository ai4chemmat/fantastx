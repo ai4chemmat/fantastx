{
 "cells": [
  {
   "cell_type": "code",
   "execution_count": null,
   "id": "2213653d",
   "metadata": {},
   "outputs": [],
   "source": [
    "import sys\n",
    "import numpy as np\n",
    "import ingrained.image_ops as iop\n",
    "import matplotlib.pyplot as plt\n",
    "from ingrained.structure import Bicrystal\n",
    "from ingrained.optimize import CongruityBuilder"
   ]
  },
  {
   "cell_type": "markdown",
   "id": "790ad300",
   "metadata": {},
   "source": [
    "The first step is to load the experimental STEM/TEM image --> `HAADF149.dm3`\n",
    "\n",
    "Raw microscopy image provided by authors of:\n",
    "Guo, Jinglong, et al. \"Effect of selenium and chlorine co-passivation in polycrystalline CdSeTe devices.\" Applied Physics Letters 115.15 (2019): 153901.\n",
    "\n",
    "A raw STEM image in the dm3 format is generally preferred because:\n",
    "- It is free of post-processing and possesses maximum resolution.\n",
    "- It includes the Pixel information accurately."
   ]
  },
  {
   "cell_type": "code",
   "execution_count": null,
   "id": "150f4bd0",
   "metadata": {},
   "outputs": [],
   "source": [
    "# Read image data\n",
    "image_data = iop.image_open('../HAADF149.dm3')\n",
    "\n",
    "exp_img = image_data['Pixels']\n",
    "print (\"Raw image size: \", exp_img.shape)"
   ]
  },
  {
   "cell_type": "code",
   "execution_count": null,
   "id": "8d3e9779",
   "metadata": {
    "scrolled": false
   },
   "outputs": [],
   "source": [
    "#Constrain optimization to clean region of image by cropping\n",
    "exp_img = exp_img[0:470][0:470]\n",
    "\n",
    "# View the image before proceeding with optimization\n",
    "plt.imshow(exp_img,cmap='gray'); plt.axis('off'); plt.show();"
   ]
  },
  {
   "cell_type": "markdown",
   "id": "d2256f44",
   "metadata": {},
   "source": [
    "Provide the top grain and bottom grain specifications in the `config.json` file.\n",
    "\n",
    "```json\n",
    "{\n",
    "    \"slab_1\": {\n",
    "        \"chemical_formula\": \"CdTe\",\n",
    "        \"space_group\": \"F-43m\",\n",
    "        \"uvw_project\": [1, 1, 0],\n",
    "        \"uvw_upward\": [-1, 1, 0],\n",
    "        \"tilt_angle\": 8,\n",
    "        \"max_dimension\": 40,\n",
    "        \"flip_species\": false\n",
    "    },\n",
    "    \"slab_2\": {\n",
    "        \"chemical_formula\": \"CdTe\",\n",
    "        \"space_group\": \"F-43m\",\n",
    "        \"uvw_project\": [1, 1, 0],\n",
    "        \"uvw_upward\": [0, 0, 1],\n",
    "        \"tilt_angle\": 0,\n",
    "        \"max_dimension\": 40,\n",
    "        \"flip_species\": false\n",
    "    },\n",
    "    \"constraints\": {\n",
    "        \"min_width\": 30,\n",
    "        \"max_width\": 60,\n",
    "        \"min_depth\": 8,\n",
    "        \"max_depth\": 20,\n",
    "        \"interface_1_width\": 0,\n",
    "        \"interface_2_width\": 0,\n",
    "        \"collision_removal\": [true, true],\n",
    "        \"pixel_size\": \"\"\n",
    "    }\n",
    "}\n"
   ]
  },
  {
   "cell_type": "markdown",
   "id": "4a4579d5",
   "metadata": {},
   "source": [
    "Create a bicrystal with the provided information --> `bicrystal.POSCAR.vasp`\n",
    "\n",
    "Also provide the strain in the supercells in top grain and bottom grain --> `strain_info.txt`"
   ]
  },
  {
   "cell_type": "code",
   "execution_count": null,
   "id": "32f7972b",
   "metadata": {
    "scrolled": true
   },
   "outputs": [],
   "source": [
    "# Initialize a Bicrystal object and save the constructed bicrystal structure\n",
    "bicrystal = Bicrystal(config_file='../config.json', write_poscar=True);"
   ]
  },
  {
   "cell_type": "markdown",
   "id": "0086f1c5",
   "metadata": {},
   "source": [
    "Example bicrystal image with supercell width allowed within 30 - 60 Å and depth within 8 - 20 Å\n",
    "![Image alt text](bicrystal_8x32.png)\n",
    "\n",
    "[//]: # \"Example bicrystal image with supercell width allowed within 40 - 80 Å and depth within 10 - 20 Å\"\n",
    "[//]: # \"![Image alt text](bicrystal_13x65.png)\""
   ]
  },
  {
   "cell_type": "code",
   "execution_count": null,
   "id": "871e26d6",
   "metadata": {},
   "outputs": [],
   "source": [
    "# Initialize a ConguityBuilder with the Bicrystal and experimental image\n",
    "congruity = CongruityBuilder(sim_obj=bicrystal, exp_img=exp_img);"
   ]
  },
  {
   "cell_type": "markdown",
   "id": "cb3a6026",
   "metadata": {},
   "source": [
    "Provide initial values for variable parameters for image fusion\n",
    "\n",
    "Use the pixel size from the dm3 raw image_data"
   ]
  },
  {
   "cell_type": "code",
   "execution_count": null,
   "id": "81d3733c",
   "metadata": {},
   "outputs": [],
   "source": [
    "# Define initial set of input parameters for an image simulation\n",
    "pix_size          = image_data[\"Experiment Pixel Size\"]        \n",
    "interface_width   = 0.00\n",
    "defocus           = 1.00\n",
    "x_shear           = 0.00\n",
    "y_shear           = 0.00\n",
    "x_stretch         = 0.00\n",
    "y_stretch         = 0.00\n",
    "crop_height       = 301\n",
    "crop_width        = 161\n",
    "\n",
    "sim_params = [pix_size, interface_width, defocus, x_shear, y_shear, x_stretch, y_stretch, crop_height, crop_width]"
   ]
  },
  {
   "cell_type": "code",
   "execution_count": null,
   "id": "34f1bbe0",
   "metadata": {},
   "outputs": [],
   "source": [
    "# Find correspondence!\n",
    "congruity.find_correspondence(objective='taxicab_ssim', initial_solution=sim_params, search_mode=\"gb\")"
   ]
  },
  {
   "cell_type": "code",
   "execution_count": null,
   "id": "44b6c08a",
   "metadata": {},
   "outputs": [],
   "source": []
  }
 ],
 "metadata": {
  "kernelspec": {
   "display_name": "Python 3 (ipykernel)",
   "language": "python",
   "name": "python3"
  },
  "language_info": {
   "codemirror_mode": {
    "name": "ipython",
    "version": 3
   },
   "file_extension": ".py",
   "mimetype": "text/x-python",
   "name": "python",
   "nbconvert_exporter": "python",
   "pygments_lexer": "ipython3",
   "version": "3.11.4"
  }
 },
 "nbformat": 4,
 "nbformat_minor": 5
}
